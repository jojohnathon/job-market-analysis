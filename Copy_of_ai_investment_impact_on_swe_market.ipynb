{
  "metadata": {
    "kernelspec": {
      "language": "python",
      "display_name": "Python 3",
      "name": "python3"
    },
    "language_info": {
      "name": "python",
      "version": "3.10.12",
      "mimetype": "text/x-python",
      "codemirror_mode": {
        "name": "ipython",
        "version": 3
      },
      "pygments_lexer": "ipython3",
      "nbconvert_exporter": "python",
      "file_extension": ".py"
    },
    "kaggle": {
      "accelerator": "none",
      "dataSources": [
        {
          "sourceId": 5895525,
          "sourceType": "datasetVersion",
          "datasetId": 3386804
        },
        {
          "sourceId": 9151760,
          "sourceType": "datasetVersion",
          "datasetId": 5528271
        },
        {
          "sourceId": 9200871,
          "sourceType": "datasetVersion",
          "datasetId": 3680745
        }
      ],
      "dockerImageVersionId": 30918,
      "isInternetEnabled": true,
      "language": "python",
      "sourceType": "notebook",
      "isGpuEnabled": false
    },
    "colab": {
      "provenance": [],
      "include_colab_link": true
    }
  },
  "nbformat_minor": 0,
  "nbformat": 4,
  "cells": [
    {
      "cell_type": "markdown",
      "metadata": {
        "id": "view-in-github",
        "colab_type": "text"
      },
      "source": [
        "<a href=\"https://colab.research.google.com/github/jojohnathon/job-market-analysis/blob/main/Copy_of_ai_investment_impact_on_swe_market.ipynb\" target=\"_parent\"><img src=\"https://colab.research.google.com/assets/colab-badge.svg\" alt=\"Open In Colab\"/></a>"
      ]
    },
    {
      "source": [
        "# IMPORTANT: RUN THIS CELL IN ORDER TO IMPORT YOUR KAGGLE DATA SOURCES,\n",
        "# THEN FEEL FREE TO DELETE THIS CELL.\n",
        "# NOTE: THIS NOTEBOOK ENVIRONMENT DIFFERS FROM KAGGLE'S PYTHON\n",
        "# ENVIRONMENT SO THERE MAY BE MISSING LIBRARIES USED BY YOUR\n",
        "# NOTEBOOK.\n",
        "import kagglehub\n",
        "gvyshnya_forbes_ai50_2023_path = kagglehub.dataset_download('gvyshnya/forbes-ai50-2023')\n",
        "saeedsarrafzadeh_forbes_ai50_2024_path = kagglehub.dataset_download('saeedsarrafzadeh/forbes-ai50-2024')\n",
        "arshkon_linkedin_job_postings_path = kagglehub.dataset_download('arshkon/linkedin-job-postings')\n",
        "\n",
        "print('Data source import complete.')\n"
      ],
      "metadata": {
        "id": "tImyWJo3tUfb",
        "outputId": "e5d994f0-a812-4eab-e50d-1a21b60bcd64",
        "colab": {
          "base_uri": "https://localhost:8080/"
        }
      },
      "cell_type": "code",
      "outputs": [
        {
          "output_type": "stream",
          "name": "stdout",
          "text": [
            "Downloading from https://www.kaggle.com/api/v1/datasets/download/gvyshnya/forbes-ai50-2023?dataset_version_number=1...\n"
          ]
        },
        {
          "output_type": "stream",
          "name": "stderr",
          "text": [
            "100%|██████████| 4.36k/4.36k [00:00<00:00, 2.54MB/s]"
          ]
        },
        {
          "output_type": "stream",
          "name": "stdout",
          "text": [
            "Extracting files...\n"
          ]
        },
        {
          "output_type": "stream",
          "name": "stderr",
          "text": [
            "\n"
          ]
        },
        {
          "output_type": "stream",
          "name": "stdout",
          "text": [
            "Downloading from https://www.kaggle.com/api/v1/datasets/download/saeedsarrafzadeh/forbes-ai50-2024?dataset_version_number=1...\n"
          ]
        },
        {
          "output_type": "stream",
          "name": "stderr",
          "text": [
            "100%|██████████| 1.55k/1.55k [00:00<00:00, 2.15MB/s]"
          ]
        },
        {
          "output_type": "stream",
          "name": "stdout",
          "text": [
            "Extracting files...\n"
          ]
        },
        {
          "output_type": "stream",
          "name": "stderr",
          "text": [
            "\n"
          ]
        },
        {
          "output_type": "stream",
          "name": "stdout",
          "text": [
            "Downloading from https://www.kaggle.com/api/v1/datasets/download/arshkon/linkedin-job-postings?dataset_version_number=13...\n"
          ]
        },
        {
          "output_type": "stream",
          "name": "stderr",
          "text": [
            "100%|██████████| 159M/159M [00:06<00:00, 25.1MB/s]"
          ]
        },
        {
          "output_type": "stream",
          "name": "stdout",
          "text": [
            "Extracting files...\n"
          ]
        },
        {
          "output_type": "stream",
          "name": "stderr",
          "text": [
            "\n"
          ]
        },
        {
          "output_type": "stream",
          "name": "stdout",
          "text": [
            "Data source import complete.\n"
          ]
        }
      ],
      "execution_count": 1
    },
    {
      "cell_type": "code",
      "source": [
        "# This Python 3 environment comes with many helpful analytics libraries installed\n",
        "# It is defined by the kaggle/python Docker image: https://github.com/kaggle/docker-python\n",
        "# For example, here's several helpful packages to load\n",
        "\n",
        "import numpy as np # linear algebra\n",
        "import pandas as pd # data processing, CSV file I/O (e.g. pd.read_csv)\n",
        "\n",
        "# Input data files are available in the read-only \"../input/\" directory\n",
        "# For example, running this (by clicking run or pressing Shift+Enter) will list all files under the input directory\n",
        "\n",
        "import os\n",
        "for dirname, _, filenames in os.walk('/kaggle/input'):\n",
        "    for filename in filenames:\n",
        "        print(os.path.join(dirname, filename))\n",
        "\n",
        "# You can write up to 20GB to the current directory (/kaggle/working/) that gets preserved as output when you create a version using \"Save & Run All\"\n",
        "# You can also write temporary files to /kaggle/temp/, but they won't be saved outside of the current session"
      ],
      "metadata": {
        "_uuid": "8f2839f25d086af736a60e9eeb907d3b93b6e0e5",
        "_cell_guid": "b1076dfc-b9ad-4769-8c92-a6c4dae69d19",
        "trusted": true,
        "execution": {
          "iopub.status.busy": "2025-02-23T06:25:12.010213Z",
          "iopub.execute_input": "2025-02-23T06:25:12.010656Z",
          "iopub.status.idle": "2025-02-23T06:25:12.441454Z",
          "shell.execute_reply.started": "2025-02-23T06:25:12.010624Z",
          "shell.execute_reply": "2025-02-23T06:25:12.440347Z"
        },
        "id": "RMhcHpivtUfe"
      },
      "outputs": [],
      "execution_count": 2
    },
    {
      "cell_type": "code",
      "source": [
        "job_postings = pd.read_csv(arshkon_linkedin_job_postings_path+\"/postings.csv\")\n",
        "job_postings.head()"
      ],
      "metadata": {
        "trusted": true,
        "execution": {
          "iopub.status.busy": "2025-02-23T06:32:13.49874Z",
          "iopub.execute_input": "2025-02-23T06:32:13.499085Z",
          "iopub.status.idle": "2025-02-23T06:32:20.415739Z",
          "shell.execute_reply.started": "2025-02-23T06:32:13.499059Z",
          "shell.execute_reply": "2025-02-23T06:32:20.414698Z"
        },
        "id": "emMPO_LStUfg"
      },
      "outputs": [],
      "execution_count": null
    },
    {
      "cell_type": "code",
      "source": [
        "ai_2024 = pd.read_csv(saeedsarrafzadeh_forbes_ai50_2024_path+'/AI50 2024.csv')\n",
        "ai_2024.head()"
      ],
      "metadata": {
        "trusted": true,
        "execution": {
          "iopub.status.busy": "2025-02-23T06:32:36.8459Z",
          "iopub.execute_input": "2025-02-23T06:32:36.846294Z",
          "iopub.status.idle": "2025-02-23T06:32:36.861653Z",
          "shell.execute_reply.started": "2025-02-23T06:32:36.846248Z",
          "shell.execute_reply": "2025-02-23T06:32:36.860695Z"
        },
        "id": "zVfUoK-5tUfh"
      },
      "outputs": [],
      "execution_count": null
    },
    {
      "cell_type": "code",
      "source": [
        "ai_2023 = pd.read_csv(gvyshnya_forbes_ai50_2023_path+\"/AI50-2023.csv\")\n",
        "ai_2023.head()"
      ],
      "metadata": {
        "trusted": true,
        "id": "12qL2kqPtUfi"
      },
      "outputs": [],
      "execution_count": null
    },
    {
      "cell_type": "code",
      "source": [],
      "metadata": {
        "id": "CpOeW0NRwpjP"
      },
      "execution_count": null,
      "outputs": []
    }
  ]
}